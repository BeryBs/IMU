{
  "cells": [
    {
      "cell_type": "markdown",
      "metadata": {
        "id": "view-in-github",
        "colab_type": "text"
      },
      "source": [
        "<a href=\"https://colab.research.google.com/github/BeryBs/IMU/blob/main/XValues_Lateness_With_Python.ipynb\" target=\"_parent\"><img src=\"https://colab.research.google.com/assets/colab-badge.svg\" alt=\"Open In Colab\"/></a>"
      ]
    },
    {
      "cell_type": "code",
      "source": [
        "\n",
        "import numpy as np\n",
        "import collections\n",
        "\n",
        "with open('XValues.txt', 'r') as file:\n",
        "    all_file = file.read().strip()  # Read and remove any extra new line\n",
        "    all_file_list = all_file.split('\\n')  # make a list of lines\n",
        "#Print the initial list\n",
        "print(\"Intial list=> \", str(all_file_list))\n",
        "\n",
        "diff_list = []\n",
        "#Calculate difference between adjecent elements in list \n",
        "for i in range(1, len(all_file_list)):\n",
        "    diff_list.append(float(all_file_list[i]) - float(all_file_list[i-1]))\n",
        "    \n",
        "\n",
        "#Print the Difference List\n",
        "print (\"\\nDifference list=> \", str(diff_list))\n",
        "\n",
        "#Search for largest element\n",
        "largest_number = diff_list[0] \n",
        "for number in diff_list:\n",
        "    if number > largest_number:\n",
        "        largest_number = number\n",
        "    \n",
        "print('\\nLargest latency value is: ',largest_number)\n",
        "#Print the index of coordinate\n",
        "index = diff_list.index(largest_number)\n",
        "print('\\nMax. latency occurs in (',all_file_list[index],',',all_file_list[index+1],')')"
      ],
      "metadata": {
        "colab": {
          "base_uri": "https://localhost:8080/"
        },
        "id": "pt-kck7xFkK7",
        "outputId": "254b032f-1e22-4f43-f27d-a1712a72d1ba"
      },
      "execution_count": null,
      "outputs": [
        {
          "output_type": "stream",
          "name": "stdout",
          "text": [
            "Intial list=>  ['172.347', '172.597', '172.647', '172.988', '173.366', '173.411', '173.561', '173.861', '175.283', '173.931', '175.994', '175.283', '176.130', '176.340', '176.365', '176.456', '180.345', '180.453', '180.543', '181.345', '181.454', '181.657', '182.345', '182.453', '182.576', '182.585', '182.786', '183.345', '183.534', '183.545', '183.645', '183.667', '184.234', '184.543', '184.554', '184.934', '185.345', '185.356', '185.456']\n",
            "\n",
            "Difference list=>  [0.25, 0.04999999999998295, 0.3410000000000082, 0.3780000000000143, 0.044999999999987494, 0.15000000000000568, 0.29999999999998295, 1.421999999999997, -1.3519999999999754, 2.062999999999988, -0.7110000000000127, 0.8470000000000084, 0.21000000000000796, 0.025000000000005684, 0.09099999999997976, 3.88900000000001, 0.10800000000000409, 0.09000000000000341, 0.8019999999999925, 0.10900000000000887, 0.20300000000000296, 0.6879999999999882, 0.10800000000000409, 0.12299999999999045, 0.009000000000014552, 0.2009999999999934, 0.5589999999999975, 0.18899999999999295, 0.01099999999999568, 0.10000000000002274, 0.02199999999999136, 0.5670000000000073, 0.3089999999999975, 0.01099999999999568, 0.37999999999999545, 0.41100000000000136, 0.01099999999999568, 0.09999999999999432]\n",
            "\n",
            "Largest latency value is:  3.88900000000001\n",
            "\n",
            "Max. latency occurs in ( 176.456 , 180.345 )\n"
          ]
        }
      ]
    }
  ],
  "metadata": {
    "colab": {
      "collapsed_sections": [],
      "name": "XValues Lateness With Python",
      "provenance": [],
      "include_colab_link": true
    },
    "kernelspec": {
      "display_name": "Python 3",
      "name": "python3"
    }
  },
  "nbformat": 4,
  "nbformat_minor": 0
}